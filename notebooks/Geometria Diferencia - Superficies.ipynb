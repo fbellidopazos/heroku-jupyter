{
 "cells": [
  {
   "cell_type": "code",
   "execution_count": 314,
   "metadata": {},
   "outputs": [],
   "source": [
    "import sympy as sy\n",
    "from sympy import cos, sin, sqrt, cosh, sinh\n",
    "from Superficie import surface"
   ]
  },
  {
   "cell_type": "code",
   "execution_count": 315,
   "metadata": {},
   "outputs": [],
   "source": [
    "sy.init_printing()\n",
    "'''\n",
    "Creacion de parametros que representan variables\n",
    "** real = True --> Evitar trabajar con complejos\n",
    "'''\n",
    "u,v = sy.symbols('u,v', real = True) \n",
    "t= sy.symbols('t',real = True)\n",
    "a,b = sy.symbols('a,b',real = True)"
   ]
  },
  {
   "cell_type": "code",
   "execution_count": 316,
   "metadata": {},
   "outputs": [
    {
     "name": "stdout",
     "output_type": "stream",
     "text": [
      "[-(cos(u) + 2)*cos(u)*cos(v)/Abs(cos(u) + 2), -(cos(u) + 2)*sin(v)*cos(u)/Abs(cos(u) + 2), -(cos(u) + 2)*sin(u)/Abs(cos(u) + 2)]\n"
     ]
    }
   ],
   "source": [
    "sup = [(2+cos(u))*cos(v),(2+cos(u))*sin(v),sin(u)]\n",
    "superficie = surface(sup,u,v)"
   ]
  },
  {
   "cell_type": "code",
   "execution_count": 317,
   "metadata": {},
   "outputs": [
    {
     "data": {
      "text/latex": [
       "$\\displaystyle \\left[ - \\frac{\\left(\\cos{\\left(u \\right)} + 2\\right) \\cos{\\left(u \\right)} \\cos{\\left(v \\right)}}{\\left|{\\cos{\\left(u \\right)} + 2}\\right|}, \\  - \\frac{\\left(\\cos{\\left(u \\right)} + 2\\right) \\sin{\\left(v \\right)} \\cos{\\left(u \\right)}}{\\left|{\\cos{\\left(u \\right)} + 2}\\right|}, \\  - \\frac{\\left(\\cos{\\left(u \\right)} + 2\\right) \\sin{\\left(u \\right)}}{\\left|{\\cos{\\left(u \\right)} + 2}\\right|}\\right]$"
      ],
      "text/plain": [
       "⎡-(cos(u) + 2)⋅cos(u)⋅cos(v)   -(cos(u) + 2)⋅sin(v)⋅cos(u)   -(cos(u) + 2)⋅sin\n",
       "⎢────────────────────────────, ────────────────────────────, ─────────────────\n",
       "⎣        │cos(u) + 2│                  │cos(u) + 2│               │cos(u) + 2│\n",
       "\n",
       "(u) ⎤\n",
       "────⎥\n",
       "    ⎦"
      ]
     },
     "execution_count": 317,
     "metadata": {},
     "output_type": "execute_result"
    }
   ],
   "source": [
    "superficie.n"
   ]
  },
  {
   "cell_type": "code",
   "execution_count": 318,
   "metadata": {},
   "outputs": [
    {
     "data": {
      "text/latex": [
       "$\\displaystyle \\left[\\begin{matrix}1 & 0\\\\0 & \\left(\\cos{\\left(u \\right)} + 2\\right)^{2}\\end{matrix}\\right]$"
      ],
      "text/plain": [
       "⎡1        0      ⎤\n",
       "⎢                ⎥\n",
       "⎢               2⎥\n",
       "⎣0  (cos(u) + 2) ⎦"
      ]
     },
     "execution_count": 318,
     "metadata": {},
     "output_type": "execute_result"
    }
   ],
   "source": [
    "superficie.firstFF"
   ]
  },
  {
   "cell_type": "code",
   "execution_count": 319,
   "metadata": {},
   "outputs": [
    {
     "data": {
      "text/latex": [
       "$\\displaystyle \\left[\\begin{matrix}1 & 0\\\\0 & \\frac{1}{\\cos^{2}{\\left(u \\right)} + 4 \\cos{\\left(u \\right)} + 4}\\end{matrix}\\right]$"
      ],
      "text/plain": [
       "⎡1            0           ⎤\n",
       "⎢                         ⎥\n",
       "⎢             1           ⎥\n",
       "⎢0  ──────────────────────⎥\n",
       "⎢      2                  ⎥\n",
       "⎣   cos (u) + 4⋅cos(u) + 4⎦"
      ]
     },
     "execution_count": 319,
     "metadata": {},
     "output_type": "execute_result"
    }
   ],
   "source": [
    "superficie.firstFF.inv()"
   ]
  },
  {
   "cell_type": "code",
   "execution_count": 320,
   "metadata": {},
   "outputs": [
    {
     "data": {
      "text/latex": [
       "$\\displaystyle \\left[\\begin{matrix}\\frac{\\cos{\\left(u \\right)} + 2}{\\left|{\\cos{\\left(u \\right)} + 2}\\right|} & 0\\\\0 & \\frac{\\left(\\cos{\\left(u \\right)} + 2\\right)^{2} \\cos{\\left(u \\right)}}{\\left|{\\cos{\\left(u \\right)} + 2}\\right|}\\end{matrix}\\right]$"
      ],
      "text/plain": [
       "⎡ cos(u) + 2                       ⎤\n",
       "⎢────────────           0          ⎥\n",
       "⎢│cos(u) + 2│                      ⎥\n",
       "⎢                                  ⎥\n",
       "⎢                          2       ⎥\n",
       "⎢              (cos(u) + 2) ⋅cos(u)⎥\n",
       "⎢     0        ────────────────────⎥\n",
       "⎣                  │cos(u) + 2│    ⎦"
      ]
     },
     "execution_count": 320,
     "metadata": {},
     "output_type": "execute_result"
    }
   ],
   "source": [
    "superficie.secondFF"
   ]
  },
  {
   "cell_type": "code",
   "execution_count": 321,
   "metadata": {},
   "outputs": [
    {
     "data": {
      "text/latex": [
       "$\\displaystyle \\left[\\begin{matrix}\\frac{\\cos{\\left(u \\right)} + 2}{\\left|{\\cos{\\left(u \\right)} + 2}\\right|} & 0\\\\0 & \\frac{\\cos{\\left(u \\right)}}{\\left|{\\cos{\\left(u \\right)} + 2}\\right|}\\end{matrix}\\right]$"
      ],
      "text/plain": [
       "⎡ cos(u) + 2               ⎤\n",
       "⎢────────────       0      ⎥\n",
       "⎢│cos(u) + 2│              ⎥\n",
       "⎢                          ⎥\n",
       "⎢                 cos(u)   ⎥\n",
       "⎢     0        ────────────⎥\n",
       "⎣              │cos(u) + 2│⎦"
      ]
     },
     "execution_count": 321,
     "metadata": {},
     "output_type": "execute_result"
    }
   ],
   "source": [
    "superficie.Weingarten"
   ]
  },
  {
   "cell_type": "code",
   "execution_count": 322,
   "metadata": {},
   "outputs": [
    {
     "data": {
      "text/latex": [
       "$\\displaystyle \\frac{\\cos{\\left(u \\right)}}{\\cos{\\left(u \\right)} + 2}$"
      ],
      "text/plain": [
       "  cos(u)  \n",
       "──────────\n",
       "cos(u) + 2"
      ]
     },
     "execution_count": 322,
     "metadata": {},
     "output_type": "execute_result"
    }
   ],
   "source": [
    "superficie.curvatureGauss"
   ]
  },
  {
   "cell_type": "code",
   "execution_count": 323,
   "metadata": {},
   "outputs": [
    {
     "data": {
      "text/latex": [
       "$\\displaystyle \\frac{1.0 \\left(\\cos{\\left(u \\right)} + 1\\right)}{\\left|{\\cos{\\left(u \\right)} + 2}\\right|}$"
      ],
      "text/plain": [
       "1.0⋅(cos(u) + 1)\n",
       "────────────────\n",
       "  │cos(u) + 2│  "
      ]
     },
     "execution_count": 323,
     "metadata": {},
     "output_type": "execute_result"
    }
   ],
   "source": [
    "superficie.curvatureMedia"
   ]
  },
  {
   "cell_type": "code",
   "execution_count": 324,
   "metadata": {},
   "outputs": [
    {
     "data": {
      "text/latex": [
       "$\\displaystyle \\left[\\begin{matrix}0 & 0 & 1.0 \\left(\\cos{\\left(u \\right)} + 2\\right) \\sin{\\left(u \\right)}\\\\0 & - 1.0 \\left(\\cos{\\left(u \\right)} + 2\\right) \\sin{\\left(u \\right)} & 0\\end{matrix}\\right]$"
      ],
      "text/plain": [
       "⎡0             0              1.0⋅(cos(u) + 2)⋅sin(u)⎤\n",
       "⎢                                                    ⎥\n",
       "⎣0  -1.0⋅(cos(u) + 2)⋅sin(u)             0           ⎦"
      ]
     },
     "execution_count": 324,
     "metadata": {},
     "output_type": "execute_result"
    }
   ],
   "source": [
    "superficie.christoffel1"
   ]
  },
  {
   "cell_type": "code",
   "execution_count": 325,
   "metadata": {},
   "outputs": [
    {
     "data": {
      "text/latex": [
       "$\\displaystyle \\left[\\begin{matrix}0 & 0 & 1.0 \\left(\\cos{\\left(u \\right)} + 2\\right) \\sin{\\left(u \\right)}\\\\0 & - \\frac{1.0 \\sin{\\left(u \\right)}}{1.0 \\cos{\\left(u \\right)} + 2.0} & 0\\end{matrix}\\right]$"
      ],
      "text/plain": [
       "⎡0         0          1.0⋅(cos(u) + 2)⋅sin(u)⎤\n",
       "⎢                                            ⎥\n",
       "⎢     -1.0⋅sin(u)                            ⎥\n",
       "⎢0  ────────────────             0           ⎥\n",
       "⎣   1.0⋅cos(u) + 2.0                         ⎦"
      ]
     },
     "execution_count": 325,
     "metadata": {},
     "output_type": "execute_result"
    }
   ],
   "source": [
    "superficie.christoffel2"
   ]
  },
  {
   "cell_type": "code",
   "execution_count": 326,
   "metadata": {},
   "outputs": [
    {
     "data": {
      "text/latex": [
       "$\\displaystyle \\left( \\left[ \\frac{1.0 \\cos{\\left(u \\right)}}{\\left|{\\cos{\\left(u \\right)} + 2}\\right|}, \\  \\frac{1.0 \\left(\\cos{\\left(u \\right)} + 2\\right)}{\\left|{\\cos{\\left(u \\right)} + 2}\\right|}\\right], \\  \\left[ \\left( \\frac{\\cos{\\left(u \\right)} + 2}{\\left|{\\cos{\\left(u \\right)} + 2}\\right|}, \\  1, \\  \\left[ \\left[\\begin{matrix}1\\\\0\\end{matrix}\\right]\\right]\\right), \\  \\left( \\frac{\\cos{\\left(u \\right)}}{\\left|{\\cos{\\left(u \\right)} + 2}\\right|}, \\  1, \\  \\left[ \\left[\\begin{matrix}0\\\\1\\end{matrix}\\right]\\right]\\right)\\right]\\right)$"
      ],
      "text/plain": [
       "⎛⎡ 1.0⋅cos(u)   1.0⋅(cos(u) + 2)⎤  ⎡⎛ cos(u) + 2      ⎡⎡1⎤⎤⎞  ⎛   cos(u)      \n",
       "⎜⎢────────────, ────────────────⎥, ⎢⎜────────────, 1, ⎢⎢ ⎥⎥⎟, ⎜────────────, 1\n",
       "⎝⎣│cos(u) + 2│    │cos(u) + 2│  ⎦  ⎣⎝│cos(u) + 2│     ⎣⎣0⎦⎦⎠  ⎝│cos(u) + 2│   \n",
       "\n",
       "  ⎡⎡0⎤⎤⎞⎤⎞\n",
       ", ⎢⎢ ⎥⎥⎟⎥⎟\n",
       "  ⎣⎣1⎦⎦⎠⎦⎠"
      ]
     },
     "execution_count": 326,
     "metadata": {},
     "output_type": "execute_result"
    }
   ],
   "source": [
    "superficie.mainCurvaturesAndDirections()"
   ]
  },
  {
   "cell_type": "code",
   "execution_count": 327,
   "metadata": {},
   "outputs": [
    {
     "data": {
      "text/latex": [
       "$\\displaystyle 1.0$"
      ],
      "text/plain": [
       "1.00000000000000"
      ]
     },
     "execution_count": 327,
     "metadata": {},
     "output_type": "execute_result"
    }
   ],
   "source": [
    "superficie.curvatureMain[1].subs([[u,0],[v,0]])\n"
   ]
  },
  {
   "cell_type": "code",
   "execution_count": 328,
   "metadata": {},
   "outputs": [
    {
     "data": {
      "text/latex": [
       "$\\displaystyle \\frac{1.0 \\cos{\\left(u \\right)}}{\\cos{\\left(u \\right)} + 2}$"
      ],
      "text/plain": [
       "1.0⋅cos(u)\n",
       "──────────\n",
       "cos(u) + 2"
      ]
     },
     "execution_count": 328,
     "metadata": {},
     "output_type": "execute_result"
    }
   ],
   "source": [
    "sy.simplify(superficie.curvatureMain[1]*superficie.curvatureMain[0])"
   ]
  },
  {
   "cell_type": "code",
   "execution_count": null,
   "metadata": {},
   "outputs": [],
   "source": []
  }
 ],
 "metadata": {
  "kernelspec": {
   "display_name": "Python 3",
   "language": "python",
   "name": "python3"
  },
  "language_info": {
   "codemirror_mode": {
    "name": "ipython",
    "version": 3
   },
   "file_extension": ".py",
   "mimetype": "text/x-python",
   "name": "python",
   "nbconvert_exporter": "python",
   "pygments_lexer": "ipython3",
   "version": "3.8.3"
  }
 },
 "nbformat": 4,
 "nbformat_minor": 4
}
